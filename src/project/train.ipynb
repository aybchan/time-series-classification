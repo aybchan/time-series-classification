{
 "cells": [
  {
   "cell_type": "markdown",
   "metadata": {},
   "source": [
    "# Time series classification"
   ]
  },
  {
   "cell_type": "code",
   "execution_count": null,
   "metadata": {},
   "outputs": [],
   "source": [
    "import numpy as np\n",
    "from time import sleep \n",
    "\n",
    "# import our modules\n",
    "from utils import *\n",
    "from train import *\n",
    "from MultiLayerPerceptron import *\n",
    "from ConvNet import *\n",
    "\n",
    "datasets = np.loadtxt('datasets.txt',dtype=str)\n",
    "# download_datasets(datasets)  # uncomment this to download the data\n",
    "dataset_dictionary = data_dictionary(datasets)"
   ]
  },
  {
   "cell_type": "code",
   "execution_count": null,
   "metadata": {},
   "outputs": [],
   "source": [
    "# training loop\n",
    "epochs = 1000\n",
    "device = torch.device('cuda:0' if torch.cuda.is_available() else 'cpu')\n",
    "print('Using device: {}\\n'.format(device))\n",
    "\n",
    "for dataset,dataloader in dataset_dictionary.items():\n",
    "\n",
    "    # setting up\n",
    "    print_dataset_info(dataset,dataloader)\n",
    "    sleep(1)\n",
    "    \n",
    "    time_steps = dataloader['test'].dataset.x.shape[-1]\n",
    "    n_classes  = len(np.unique(dataloader['test'].dataset.y))\n",
    "    \n",
    "    learning_rate = 0.0001\n",
    "    \n",
    "    # MLP\n",
    "    model = MultiLayerPerceptron(time_steps,n_classes)\n",
    "    if torch.cuda.device_count() > 0:\n",
    "        model = nn.DataParallel(model)\n",
    "    model.to(device)\n",
    "    model, history = train(dataloader['train'],\n",
    "                           dataloader['test'],\n",
    "                           device, model,\n",
    "                           epochs, learning_rate,\n",
    "                           save=False)\n",
    "    print('MPCE: {0:.4f}'.format(mpce(model,dataloader['test'],device)))\n",
    "    sleep(1)\n",
    "    \n",
    "    # ConvNet\n",
    "    model = ConvNet(time_steps,n_classes)\n",
    "    if torch.cuda.device_count() > 0:\n",
    "        model = nn.DataParallel(model)\n",
    "    model.to(device)\n",
    "\n",
    "    model, history = train(dataloader['train'],\n",
    "                           dataloader['test'],\n",
    "                           device, model,\n",
    "                           epochs, learning_rate,\n",
    "                           save=False)\n",
    "    print('MPCE: {0:.4f}'.format(mpce(model,dataloader['test'],device)))\n",
    "    print()"
   ]
  },
  {
   "cell_type": "code",
   "execution_count": null,
   "metadata": {},
   "outputs": [],
   "source": []
  }
 ],
 "metadata": {
  "kernelspec": {
   "display_name": "Python 3",
   "language": "python",
   "name": "python3"
  },
  "language_info": {
   "codemirror_mode": {
    "name": "ipython",
    "version": 3
   },
   "file_extension": ".py",
   "mimetype": "text/x-python",
   "name": "python",
   "nbconvert_exporter": "python",
   "pygments_lexer": "ipython3",
   "version": "3.7.3"
  }
 },
 "nbformat": 4,
 "nbformat_minor": 2
}
